{
 "cells": [
  {
   "cell_type": "code",
   "execution_count": 1,
   "metadata": {},
   "outputs": [],
   "source": [
    "%matplotlib inline\n",
    "%load_ext autoreload\n",
    "%autoreload 2"
   ]
  },
  {
   "cell_type": "markdown",
   "metadata": {},
   "source": [
    "# Imports"
   ]
  },
  {
   "cell_type": "code",
   "execution_count": 2,
   "metadata": {},
   "outputs": [],
   "source": [
    "import random\n",
    "import io\n",
    "import base64\n",
    "\n",
    "import gym\n",
    "import numpy as np\n",
    "import pandas as pd\n",
    "import torch\n",
    "\n",
    "from matplotlib import pyplot as plt\n",
    "from gym import wrappers\n",
    "\n",
    "from lib import get_network\n",
    "from lib.agent import DQN\n",
    "from lib.rollout import ReplayBuffer\n",
    "from lib.network import MLP\n",
    "\n",
    "from IPython.display import HTML\n",
    "\n",
    "plt.style.use('seaborn')"
   ]
  },
  {
   "cell_type": "markdown",
   "metadata": {},
   "source": [
    "# Fix seed"
   ]
  },
  {
   "cell_type": "code",
   "execution_count": 3,
   "metadata": {},
   "outputs": [],
   "source": [
    "SEED = 0xCEEEEEEB\n",
    "random.seed(SEED)\n",
    "torch.manual_seed(SEED)\n",
    "np.random.seed(SEED)"
   ]
  },
  {
   "cell_type": "markdown",
   "metadata": {},
   "source": [
    "# Utils"
   ]
  },
  {
   "cell_type": "code",
   "execution_count": 4,
   "metadata": {},
   "outputs": [],
   "source": [
    "def make_env(name, seed=None, monitor=False):\n",
    "    env = gym.make(name)\n",
    "    if monitor:\n",
    "        env = wrappers.Monitor(env, \"./gym-results\", force=True)\n",
    "    if seed:\n",
    "        env.seed(seed)\n",
    "    return env"
   ]
  },
  {
   "cell_type": "code",
   "execution_count": 5,
   "metadata": {},
   "outputs": [],
   "source": [
    "def get_html_video_string(infix):\n",
    "    video = io.open(\n",
    "        f'./gym-results/openaigym.video.{infix}.video000000.mp4',\n",
    "        'r+b').read()\n",
    "    encoded = base64.b64encode(video)\n",
    "    dec_str = encoded.decode('ascii')\n",
    "    src_tag = f'<source src=\"data:video/mp4;base64,{dec_str}\" type=\"video/mp4\" /></video>'\n",
    "    html = f'<video width=\"360\" height=\"auto\" alt=\"test\" controls>{src_tag}</video>'\n",
    "    return html"
   ]
  },
  {
   "cell_type": "markdown",
   "metadata": {},
   "source": [
    "# Analyse Environment"
   ]
  },
  {
   "cell_type": "code",
   "execution_count": 6,
   "metadata": {},
   "outputs": [
    {
     "data": {
      "text/html": [
       "<video width=\"360\" height=\"auto\" alt=\"test\" controls><source src=\"data:video/mp4;base64,AAAAIGZ0eXBpc29tAAACAGlzb21pc28yYXZjMW1wNDEAAAAIZnJlZQAAD/ttZGF0AAACrwYF//+r3EXpvebZSLeWLNgg2SPu73gyNjQgLSBjb3JlIDE1NSByMjkxNyAwYTg0ZDk4IC0gSC4yNjQvTVBFRy00IEFWQyBjb2RlYyAtIENvcHlsZWZ0IDIwMDMtMjAxOCAtIGh0dHA6Ly93d3cudmlkZW9sYW4ub3JnL3gyNjQuaHRtbCAtIG9wdGlvbnM6IGNhYmFjPTEgcmVmPTMgZGVibG9jaz0xOjA6MCBhbmFseXNlPTB4MzoweDExMyBtZT1oZXggc3VibWU9NyBwc3k9MSBwc3lfcmQ9MS4wMDowLjAwIG1peGVkX3JlZj0xIG1lX3JhbmdlPTE2IGNocm9tYV9tZT0xIHRyZWxsaXM9MSA4eDhkY3Q9MSBjcW09MCBkZWFkem9uZT0yMSwxMSBmYXN0X3Bza2lwPTEgY2hyb21hX3FwX29mZnNldD0tMiB0aHJlYWRzPTEyIGxvb2thaGVhZF90aHJlYWRzPTIgc2xpY2VkX3RocmVhZHM9MCBucj0wIGRlY2ltYXRlPTEgaW50ZXJsYWNlZD0wIGJsdXJheV9jb21wYXQ9MCBjb25zdHJhaW5lZF9pbnRyYT0wIGJmcmFtZXM9MyBiX3B5cmFtaWQ9MiBiX2FkYXB0PTEgYl9iaWFzPTAgZGlyZWN0PTEgd2VpZ2h0Yj0xIG9wZW5fZ29wPTAgd2VpZ2h0cD0yIGtleWludD0yNTAga2V5aW50X21pbj0yNSBzY2VuZWN1dD00MCBpbnRyYV9yZWZyZXNoPTAgcmNfbG9va2FoZWFkPTQwIHJjPWNyZiBtYnRyZWU9MSBjcmY9MjMuMCBxY29tcD0wLjYwIHFwbWluPTAgcXBtYXg9NjkgcXBzdGVwPTQgaXBfcmF0aW89MS40MCBhcT0xOjEuMDAAgAAAAfFliIQAJ//+9bF8CmrJ84oM6DIu4Zckya62IuJtAMAAJShQAAADABLJlCWzIByZd0AAABMgA4ofQZQeYiYqxUCV4g4JMqYADMfG/0IND31OpZUX8Z230WprrgPgsscWQ+HueDO0KqgpO/5msR2JsqKCP7hdkHkct99TycHVgSVF+eqwR4WiM1NGP4TcjWVpI45uvn0y5D1RMWp9d6TG97G+hYrqpKHcGeIE2RwM7s4As3cXWmdgpZWXP8DNVCGE5T7eY+VCjax1Ist2iS82XU5kiPpMDxQAK63OtwNghW0FiwF5sGYfYQH41GMilQxb89IV/O2pKl2/Ukwbw7P+y5tbyOFuTjNDslNAF1GVyUN4bgBRiwtJRZuk/7YMzMpPvA9XL5OtqAPaR6KbDo/K8tjaV4uY68iUEWdY9CBk/OBU9fvEpVtAL5+M6BUms4DN07FqGYgZ0g7ZN4t/bV3UQnjCKRQZCAtdW38XbRfj/jr52IXHdG4vLW4r7Hrx5vTjMzhBCr57S/VhQ3R34wki50pLsBIINrjDu9ihAWAG7VX0cHTY4EsUfbKoH9VPcVMgJ20/fsKVh8do6kp4IN4synajvEgf+8Q5rh/GkeAq5gZEZOCvuN+OA+huQ/6Zs2I39WA2fBUZW4HPAAADAAADAAAt4QAAALdBmiRsQn/98QAAAwKfXRdAEHHKcuS0tke8BUdscAhndYk/qhrutmvqHQEohrtYC26ACkk3AKQFW+HW5S2C2zhztENMW/XNLYKwCJsetCIYF3LrosVAyULuqxRDlhWx6DABH5/E62VROxh5kZZCcJGIsimdcj8zGCqsdlm2ZvpQWvkzlTHEiC4wLXQb9+8uAno68sikxQkgie0CISATQsskAQI8m/ZAoz7AMc4VJzvafbiC3PimK+wAAABZQZ5CeIR/AAAV52EsnBREywzH/oIT9oMQAnDpVye3Zn2YMUJaSFfliYiI2soUhFr2CYQ8+b/cxB3rS8lXONeXG9d/jNr2GScUsNwBnGU14aC7h/tXiYnTUfEAAAAqAZ5hdEf/AAAjwvCIuE+lEo8kdo71nLTpGTGilhOs9xHV/LTeNDn09ck4AAAAPwGeY2pH/wAAI7HL/J0PAaaoks+cQpe72D7CdqYDbiKjXGtQBvAqfwHlrGU15iBviOFlF+OWMJWo2HRdXoZLTQAAAM5BmmhJqEFomUwIT//98QAAAwKe+AR8A1EVhLoZW09cSDc6dMzxlZzfMWLwXRzWcg4+O8J+pFvbA0VecdoyPafmWum3xuBIn6dMNtwRpvTITv/OU6OqspaJKACg1JQyjFRpCsr/LgF4f0gG+fx3s7HCa95uB9Ya70BeQIYX2No+f0Ocf8VOXbecENOYHUYACJAiH9ypzVbeJ+e6/isPDONEOAv4TZQrlRsVjnTt9E05mN/Im8AGkSEVdGZeKRtD2Z7kl6E/s5BMVe2+XAMr0QAAAFtBnoZFESwj/wAAFm5PLd5PX86+aVz04IrwDdx0OYNgeyi3eWZ/Vf0VOCoWMWfEEeGiMmoGE3v1qWzHaqkAE7AxwBLZoJI73dEPTLy3LW2rf+I/fRYkQ68Cz89xAAAAQwGepXRH/wAAI6v4WbiF2e7hm5QTFxoTiGHe3m9yfFo0eXb3MdCIQUXiEyFFFXseECjAAthO5KNz6DFgOm9ODJvaupEAAAAzAZ6nakf/AAAivx9/X/SEWRX8fazmGCzmkW5DQoT85SSJX0n1K76zBzNLy8QkWL8nKX3uAAAAhEGarEmoQWyZTAhH//3hAAAEFLLZe8A1eGX4/2yWZyzm/Q2AvyY8+dvfR6UXKz5icyf2zThauMh0XSmUL0Ffut0/TAxHFrWOfgGEWnyQ2UrNd8lvAq55Ntyule5h4cA9mbAEfsYFRmSsDX4hCVXp0IIVFJYwUpTXyqrUzzKurp9uHGQP/AAAAF9BnspFFSwj/wAAFrMwx4AiXsIxhv8cM6BzFnc7mPtOhDIUyzvkWy5bninHC5oTNgVQO+xbyNA7LQzKb44Y8VNt/hvdd2qFEfBUdgMj1kiWRyClet0sutapt65yKJG14QAAADQBnul0R/8AACO9BGod+OdAeMHjUnQgcfDzH7ul2fgDvkK6Js4RWlDOPc33YZcEMybLEOvAAAAAPgGe62pH/wAAI7uyZ07ZKYNU3oWTS7pY47ZKh538J7JgyJNbU5GEXYY+nkviL38g8AJL/nMtuO0sSsUdjtSAAAAAp0Ga8EmoQWyZTAhH//3hAAAEE0ovMz2v7rl/eDgakx/KAA+W9qsfIJqtMC369wX/7AidS3utErAixLQfmfh5wB4kRrZF4C2lUARUL8DYGb9alcu1t03GFnMr+6/fJqmwP6UN6LbUKRqltcf2YTipSVUbnRyI7sOw98MKt2F3W9pUscKe32SObSlAcVZ2uOA9SeHkEPeY82XFmFYZt/l2V/e/uBVnzPi3AAAAVkGfDkUVLCP/AAAWsp3HOjAgxmPot1ZVctVDYf8/dKiAH8KMJD3Xc/MZnQ8NxJphcd9fk0nD95w8v9sKBVXoIAPfhEx8+yLcD83vmdkO59ZqHYFt1tSBAAAARAGfLXRH/wAAI8DMkIproALCJsCAkWHUq5ZK1d3ge6LyRaXPkHaMh4TNVKSkELaeDSrzN1VIo2PLf+Bu9HjYz5pyrPa9AAAANAGfL2pH/wAAI64xaS3FW8cre7S5t2Eret7G+iQn26lE3tIX/Y7SJqRFwauGnlQVwYReS8gAAACPQZs0SahBbJlMCE///fEAAAMCo8nc+iXRwbbAJmNOUnfEnB95VmZGz4IzBrZYyrxwcRqs+leclnSSD9+fp8a0x0wdgCpLiEjvbDJKZfMC+3vY/gploaX1ezNoNvCpJpxw/2sNPWS+SZ73lMgRTtKgaw0v9ila3KXt76cnWtm8Q6QKcuCirNlS8cNc3v9KzekAAABFQZ9SRRUsI/8AABa1E1wJjSePaGFZjgFG/ImPoH+wEWQjiGnQ2abYlOgrSVu3eClodb7hi+f9uhSp2wjSKA/OCpUOm7HvAAAARAGfcXRH/wAAI8LstH9SzthxiEI5OzzXvhXbE7nMfppKDQDIBj6TCVxzzsu2M+U4CNZXIKAEKOt9vivavUDLoPQa8qRYAAAARgGfc2pH/wAAIpksfQsEhmECQEu72/CUJzv8hiy/BUnXRd0zY+5Unup/4dgRU0ACH/9v87UcHC+rL1uUVX6b0g/S5Igh1FgAAABiQZt4SahBbJlMCE///fEAAAMCjO8d10ALDxiLks/5QiF0SF1W3MzTr1rmeLmxQ3Pe2+vPx2tBzS/JbT5YK0neI82zqXlRGmIIJsR5e8J4IfUm3Wgj+pjw67sGWAezvbqAkiEAAABYQZ+WRRUsI/8AABXdwG91KwBWoPGmmbNOOgkH/dMuzyrSx3Q0Q9DOwjDq82hpSShY1yZaGpJsJs8yh+p2IG1nnw14ZIvMSTpg+bDLNtLLuKyfWwp48rLUgAAAAFYBn7V0R/8AACKppCnRGIl1IC5ipBuE8cGmP7Dn+uHE/z/yEEj0Wf1H4yUPYockvvieZ7yNG8gA9rOdKNXuxNhdJa0J4Qgn58D75+zRiJGLP0YzcFwNqQAAAFsBn7dqR/8AACKuMeJuPyt36FubwW6LBf3IFM7AjLEUzIJ+QovT0r1Z24vbWyhQg+6wAma6KDRYoi2J4QOMa28rsvnzeO3yEV3YdtNEH7BLm0cUYyU2rZUHunqRAAAAcEGbvEmoQWyZTAhH//3hAAADA/aDbe++ExVAJrjEiiWjWNePBmXe8ClR3ALJ6FtmzN14S3WNdmXri86/IlM0I54HJBw47do1JMvsl7YI1+b6soRQ6UP1UI24NJLtZWCIeN7kVV8l8/rQwyRUN8ca6GAAAAA/QZ/aRRUsI/8AABYrJVQDNK8tHjSIn6SRT6jdOU/UMgco2TjpG3WwpJGg1y/YYahJz7kIzLk2QKBkdTtMsbtxAAAAVAGf+XRH/wAAIpIvBdUvedh5neAOZU3Rz9h773sBFUcHL6u8ZCpN4yWHIzhyW6wAmoHzCBwt27Q69qfYNQlGeeRSaWn2xZr7Q51yySjzoeu6fywKxQAAAFsBn/tqR/8AACJ5Hu4aNrX1aztsCmazV32LrW0il4A0EHni9+5xNqC4RXQbHYPwkKSo/3XtfoAQpuWd749CZ/7txxa3OrLzMc9ZDe7k00ioZU0ExzxhTOs2/94tAAAAdkGb/kmoQWyZTBRMf/yEAAAPl6ItNn1AFgcqxjpGtMpJu34DFZLx6yTCiLQuenqWACNFGvGjsyaob45dkZK8Ifxm3+TruxDFv/4y8+847jB6CtaWNNEO8Dba6WEMRQEOQZN1XQpJ7Twq/udKYuY1qEiB/bdeBHkAAABUAZ4dakf/AAAixvJuvqD7SgUpbMfHl27H7XZPn6gnZHMUuvPhf4qfqxno8CY0CCmx5yx5vMCzvB4p8Dy3aA26eAAfw82lH3yeL3tRkikSytVs2AuqAAAEh21vb3YAAABsbXZoZAAAAAAAAAAAAAAAAAAAA+gAAAJsAAEAAAEAAAAAAAAAAAAAAAABAAAAAAAAAAAAAAAAAAAAAQAAAAAAAAAAAAAAAAAAQAAAAAAAAAAAAAAAAAAAAAAAAAAAAAAAAAAAAAAAAAIAAAOxdHJhawAAAFx0a2hkAAAAAwAAAAAAAAAAAAAAAQAAAAAAAAJsAAAAAAAAAAAAAAAAAAAAAAABAAAAAAAAAAAAAAAAAAAAAQAAAAAAAAAAAAAAAAAAQAAAAAJYAAABkAAAAAAAJGVkdHMAAAAcZWxzdAAAAAAAAAABAAACbAAAAgAAAQAAAAADKW1kaWEAAAAgbWRoZAAAAAAAAAAAAAAAAAAAMgAAAB8AVcQAAAAAAC1oZGxyAAAAAAAAAAB2aWRlAAAAAAAAAAAAAAAAVmlkZW9IYW5kbGVyAAAAAtRtaW5mAAAAFHZtaGQAAAABAAAAAAAAAAAAAAAkZGluZgAAABxkcmVmAAAAAAAAAAEAAAAMdXJsIAAAAAEAAAKUc3RibAAAAJhzdHNkAAAAAAAAAAEAAACIYXZjMQAAAAAAAAABAAAAAAAAAAAAAAAAAAAAAAJYAZAASAAAAEgAAAAAAAAAAQAAAAAAAAAAAAAAAAAAAAAAAAAAAAAAAAAAAAAAAAAAABj//wAAADJhdmNDAWQAH//hABlnZAAfrNlAmDPl4QAAAwABAAADAGQPGDGWAQAGaOvjyyLAAAAAGHN0dHMAAAAAAAAAAQAAAB8AAAEAAAAAFHN0c3MAAAAAAAAAAQAAAAEAAAEIY3R0cwAAAAAAAAAfAAAAAQAAAgAAAAABAAAFAAAAAAEAAAIAAAAAAQAAAAAAAAABAAABAAAAAAEAAAUAAAAAAQAAAgAAAAABAAAAAAAAAAEAAAEAAAAAAQAABQAAAAABAAACAAAAAAEAAAAAAAAAAQAAAQAAAAABAAAFAAAAAAEAAAIAAAAAAQAAAAAAAAABAAABAAAAAAEAAAUAAAAAAQAAAgAAAAABAAAAAAAAAAEAAAEAAAAAAQAABQAAAAABAAACAAAAAAEAAAAAAAAAAQAAAQAAAAABAAAFAAAAAAEAAAIAAAAAAQAAAAAAAAABAAABAAAAAAEAAAMAAAAAAQAAAQAAAAAcc3RzYwAAAAAAAAABAAAAAQAAAB8AAAABAAAAkHN0c3oAAAAAAAAAAAAAAB8AAASoAAAAuwAAAF0AAAAuAAAAQwAAANIAAABfAAAARwAAADcAAACIAAAAYwAAADgAAABCAAAAqwAAAFoAAABIAAAAOAAAAJMAAABJAAAASAAAAEoAAABmAAAAXAAAAFoAAABfAAAAdAAAAEMAAABYAAAAXwAAAHoAAABYAAAAFHN0Y28AAAAAAAAAAQAAADAAAABidWR0YQAAAFptZXRhAAAAAAAAACFoZGxyAAAAAAAAAABtZGlyYXBwbAAAAAAAAAAAAAAAAC1pbHN0AAAAJal0b28AAAAdZGF0YQAAAAEAAAAATGF2ZjU4LjIwLjEwMA==\" type=\"video/mp4\" /></video></video>"
      ],
      "text/plain": [
       "<IPython.core.display.HTML object>"
      ]
     },
     "execution_count": 6,
     "metadata": {},
     "output_type": "execute_result"
    }
   ],
   "source": [
    "env = make_env(\"CartPole-v0\", monitor=True)\n",
    "env.reset()\n",
    "while True:\n",
    "    action = env.action_space.sample()\n",
    "    feedback = env.step(action)\n",
    "    if feedback[2]: break\n",
    "env.close()\n",
    "\n",
    "HTML(data=get_html_video_string(env.file_infix))"
   ]
  },
  {
   "cell_type": "code",
   "execution_count": 7,
   "metadata": {},
   "outputs": [
    {
     "name": "stdout",
     "output_type": "stream",
     "text": [
      "Environment takes: 1\n",
      "Environment gives: (array([0.01136625, 0.2899458 , 0.21187658, 0.71555143]), 1.0, True, {})\n"
     ]
    }
   ],
   "source": [
    "print('Environment takes: {}'.format(action))\n",
    "print('Environment gives: {}'.format(feedback))"
   ]
  },
  {
   "cell_type": "markdown",
   "metadata": {},
   "source": [
    "# Train Loop"
   ]
  },
  {
   "cell_type": "code",
   "execution_count": 8,
   "metadata": {},
   "outputs": [],
   "source": [
    "neural_net = MLP(env.observation_space.shape[0], 128, env.action_space.n)"
   ]
  },
  {
   "cell_type": "code",
   "execution_count": 9,
   "metadata": {},
   "outputs": [],
   "source": [
    "buffer_size = 5 * 10**4\n",
    "n_steps = 10**5\n",
    "warmup_steps = 1000\n"
   ]
  },
  {
   "cell_type": "code",
   "execution_count": 10,
   "metadata": {},
   "outputs": [],
   "source": [
    "memory = ReplayBuffer(buffer_size)"
   ]
  },
  {
   "cell_type": "code",
   "execution_count": 11,
   "metadata": {},
   "outputs": [],
   "source": [
    "agent = DQN(\n",
    "    neural_net,\n",
    "    env.action_space,\n",
    "    start_eps=0.2, \n",
    "    final_eps=0.05, \n",
    "    decay_eps=200,\n",
    "    batch_size=64,\n",
    "    learning_rate=5e-4,\n",
    "    discount_factor=.99,\n",
    "    update_target_rate=250\n",
    ")"
   ]
  },
  {
   "cell_type": "code",
   "execution_count": 13,
   "metadata": {},
   "outputs": [
    {
     "ename": "KeyboardInterrupt",
     "evalue": "",
     "output_type": "error",
     "traceback": [
      "\u001b[0;31m---------------------------------------------------------------------------\u001b[0m",
      "\u001b[0;31mKeyboardInterrupt\u001b[0m                         Traceback (most recent call last)",
      "\u001b[0;32m<ipython-input-13-71664711f1c8>\u001b[0m in \u001b[0;36m<module>\u001b[0;34m\u001b[0m\n\u001b[1;32m     31\u001b[0m \u001b[0;34m\u001b[0m\u001b[0m\n\u001b[1;32m     32\u001b[0m     \u001b[0;32mif\u001b[0m \u001b[0mi\u001b[0m \u001b[0;34m>\u001b[0m \u001b[0mwarmup_steps\u001b[0m\u001b[0;34m:\u001b[0m\u001b[0;34m\u001b[0m\u001b[0;34m\u001b[0m\u001b[0m\n\u001b[0;32m---> 33\u001b[0;31m         \u001b[0mq\u001b[0m \u001b[0;34m=\u001b[0m \u001b[0magent\u001b[0m\u001b[0;34m.\u001b[0m\u001b[0mtrain_step\u001b[0m\u001b[0;34m(\u001b[0m\u001b[0mmemory\u001b[0m\u001b[0;34m)\u001b[0m\u001b[0;34m\u001b[0m\u001b[0;34m\u001b[0m\u001b[0m\n\u001b[0m\u001b[1;32m     34\u001b[0m         \u001b[0mlosses\u001b[0m\u001b[0;34m.\u001b[0m\u001b[0mappend\u001b[0m\u001b[0;34m(\u001b[0m\u001b[0mq\u001b[0m\u001b[0;34m)\u001b[0m\u001b[0;34m\u001b[0m\u001b[0;34m\u001b[0m\u001b[0m\n\u001b[1;32m     35\u001b[0m \u001b[0;34m\u001b[0m\u001b[0m\n",
      "\u001b[0;32m~/anaconda3/src/rl-assignments/lib/agent.py\u001b[0m in \u001b[0;36mtrain_step\u001b[0;34m(self, replay_buffer)\u001b[0m\n\u001b[1;32m     76\u001b[0m         \u001b[0mself\u001b[0m\u001b[0;34m.\u001b[0m\u001b[0moptimizer\u001b[0m\u001b[0;34m.\u001b[0m\u001b[0mzero_grad\u001b[0m\u001b[0;34m(\u001b[0m\u001b[0;34m)\u001b[0m\u001b[0;34m\u001b[0m\u001b[0;34m\u001b[0m\u001b[0m\n\u001b[1;32m     77\u001b[0m         \u001b[0mloss\u001b[0m\u001b[0;34m.\u001b[0m\u001b[0mbackward\u001b[0m\u001b[0;34m(\u001b[0m\u001b[0;34m)\u001b[0m\u001b[0;34m\u001b[0m\u001b[0;34m\u001b[0m\u001b[0m\n\u001b[0;32m---> 78\u001b[0;31m         \u001b[0mself\u001b[0m\u001b[0;34m.\u001b[0m\u001b[0moptimizer\u001b[0m\u001b[0;34m.\u001b[0m\u001b[0mstep\u001b[0m\u001b[0;34m(\u001b[0m\u001b[0;34m)\u001b[0m\u001b[0;34m\u001b[0m\u001b[0;34m\u001b[0m\u001b[0m\n\u001b[0m\u001b[1;32m     79\u001b[0m \u001b[0;34m\u001b[0m\u001b[0m\n\u001b[1;32m     80\u001b[0m         \u001b[0;32mif\u001b[0m \u001b[0mself\u001b[0m\u001b[0;34m.\u001b[0m\u001b[0mglobal_step\u001b[0m \u001b[0;34m%\u001b[0m \u001b[0mself\u001b[0m\u001b[0;34m.\u001b[0m\u001b[0mupdate_target_rate\u001b[0m \u001b[0;34m==\u001b[0m \u001b[0;36m0\u001b[0m\u001b[0;34m:\u001b[0m\u001b[0;34m\u001b[0m\u001b[0;34m\u001b[0m\u001b[0m\n",
      "\u001b[0;32m~/anaconda3/envs/venv/lib/python3.6/site-packages/torch/optim/adam.py\u001b[0m in \u001b[0;36mstep\u001b[0;34m(self, closure)\u001b[0m\n\u001b[1;32m     63\u001b[0m                     \u001b[0;32mcontinue\u001b[0m\u001b[0;34m\u001b[0m\u001b[0;34m\u001b[0m\u001b[0m\n\u001b[1;32m     64\u001b[0m                 \u001b[0mgrad\u001b[0m \u001b[0;34m=\u001b[0m \u001b[0mp\u001b[0m\u001b[0;34m.\u001b[0m\u001b[0mgrad\u001b[0m\u001b[0;34m.\u001b[0m\u001b[0mdata\u001b[0m\u001b[0;34m\u001b[0m\u001b[0;34m\u001b[0m\u001b[0m\n\u001b[0;32m---> 65\u001b[0;31m                 \u001b[0;32mif\u001b[0m \u001b[0mgrad\u001b[0m\u001b[0;34m.\u001b[0m\u001b[0mis_sparse\u001b[0m\u001b[0;34m:\u001b[0m\u001b[0;34m\u001b[0m\u001b[0;34m\u001b[0m\u001b[0m\n\u001b[0m\u001b[1;32m     66\u001b[0m                     \u001b[0;32mraise\u001b[0m \u001b[0mRuntimeError\u001b[0m\u001b[0;34m(\u001b[0m\u001b[0;34m'Adam does not support sparse gradients, please consider SparseAdam instead'\u001b[0m\u001b[0;34m)\u001b[0m\u001b[0;34m\u001b[0m\u001b[0;34m\u001b[0m\u001b[0m\n\u001b[1;32m     67\u001b[0m                 \u001b[0mamsgrad\u001b[0m \u001b[0;34m=\u001b[0m \u001b[0mgroup\u001b[0m\u001b[0;34m[\u001b[0m\u001b[0;34m'amsgrad'\u001b[0m\u001b[0;34m]\u001b[0m\u001b[0;34m\u001b[0m\u001b[0;34m\u001b[0m\u001b[0m\n",
      "\u001b[0;31mKeyboardInterrupt\u001b[0m: "
     ]
    }
   ],
   "source": [
    "live_times = []\n",
    "losses = []\n",
    "\n",
    "live_time = 0\n",
    "    \n",
    "obs_cur = env.reset()\n",
    "for i in range(n_steps + 1):\n",
    "    env.render()\n",
    "    if i > warmup_steps:\n",
    "        act = agent.prediction_step(torch.FloatTensor(obs_cur).unsqueeze(0))\n",
    "    else:\n",
    "        act = env.action_space.sample()\n",
    "\n",
    "    obs_prev = obs_cur\n",
    "    obs_cur, rew, done, info = env.step(act)\n",
    "    \n",
    "    x, x_dot, theta, theta_dot = obs_cur\n",
    "    r1 = (env.x_threshold - abs(x)) / env.x_threshold - 0.8\n",
    "    r2 = (env.theta_threshold_radians - abs(theta)) / env.theta_threshold_radians - 0.5\n",
    "    rew = r1 + r2\n",
    "\n",
    "    memory.push(obs_prev, act, obs_cur, rew, done)\n",
    "\n",
    "    if done:\n",
    "        obs_cur = env.reset()\n",
    "        #print('Live Time: {}'.format(live_time))\n",
    "        live_times.append(live_time)\n",
    "        live_time = 0\n",
    "    else:\n",
    "        live_time += 1\n",
    "\n",
    "    if i > warmup_steps:\n",
    "        q = agent.train_step(memory)\n",
    "        losses.append(q)\n",
    "        \n"
   ]
  },
  {
   "cell_type": "code",
   "execution_count": 14,
   "metadata": {},
   "outputs": [
    {
     "data": {
      "image/png": "[encoded data removed]",
      "text/plain": [
       "<Figure size 576x396 with 1 Axes>"
      ]
     },
     "metadata": {},
     "output_type": "display_data"
    }
   ],
   "source": [
    "plt.plot(losses);"
   ]
  },
  {
   "cell_type": "code",
   "execution_count": 17,
   "metadata": {},
   "outputs": [
    {
     "data": {
      "text/plain": [
       "[<matplotlib.lines.Line2D at 0x7f363bc78a90>]"
      ]
     },
     "execution_count": 17,
     "metadata": {},
     "output_type": "execute_result"
    },
    {
     "data": {
      "image/png": "[encoded data removed]",
      "text/plain": [
       "<Figure size 576x396 with 1 Axes>"
      ]
     },
     "metadata": {},
     "output_type": "display_data"
    }
   ],
   "source": [
    "plt.plot(live_times[-10:])"
   ]
  },
  {
   "cell_type": "code",
   "execution_count": null,
   "metadata": {},
   "outputs": [],
   "source": [
    "max(live_times[])"
   ]
  },
  {
   "cell_type": "code",
   "execution_count": null,
   "metadata": {},
   "outputs": [],
   "source": []
  },
  {
   "cell_type": "code",
   "execution_count": null,
   "metadata": {},
   "outputs": [],
   "source": []
  },
  {
   "cell_type": "code",
   "execution_count": null,
   "metadata": {},
   "outputs": [],
   "source": [
    "\"\"\"\n",
    "View more, visit my tutorial page: https://morvanzhou.github.io/tutorials/\n",
    "My Youtube Channel: https://www.youtube.com/user/MorvanZhou\n",
    "More about Reinforcement learning: https://morvanzhou.github.io/tutorials/machine-learning/reinforcement-learning/\n",
    "Dependencies:\n",
    "torch: 0.4\n",
    "gym: 0.8.1\n",
    "numpy\n",
    "\"\"\"\n",
    "import torch\n",
    "import torch.nn as nn\n",
    "import torch.nn.functional as F\n",
    "import numpy as np\n",
    "import gym\n",
    "\n",
    "# Hyper Parameters\n",
    "BATCH_SIZE = 32\n",
    "LR = 0.01                   # learning rate\n",
    "EPSILON = 0.9               # greedy policy\n",
    "GAMMA = 0.9                 # reward discount\n",
    "TARGET_REPLACE_ITER = 100   # target update frequency\n",
    "MEMORY_CAPACITY = 2000\n",
    "env = gym.make('CartPole-v0')\n",
    "env = env.unwrapped\n",
    "N_ACTIONS = env.action_space.n\n",
    "N_STATES = env.observation_space.shape[0]\n",
    "ENV_A_SHAPE = 0 if isinstance(env.action_space.sample(), int) else env.action_space.sample().shape     # to confirm the shape\n",
    "\n",
    "\n",
    "class Net(nn.Module):\n",
    "    def __init__(self, ):\n",
    "        super(Net, self).__init__()\n",
    "        self.fc1 = nn.Linear(N_STATES, 50)\n",
    "        self.fc1.weight.data.normal_(0, 0.1)   # initialization\n",
    "        self.out = nn.Linear(50, N_ACTIONS)\n",
    "        self.out.weight.data.normal_(0, 0.1)   # initialization\n",
    "\n",
    "    def forward(self, x):\n",
    "        x = self.fc1(x)\n",
    "        x = F.relu(x)\n",
    "        actions_value = self.out(x)\n",
    "        return actions_value\n",
    "\n",
    "\n",
    "class DQN(object):\n",
    "    def __init__(self):\n",
    "        self.eval_net, self.target_net = Net(), Net()\n",
    "\n",
    "        self.learn_step_counter = 0                                     # for target updating\n",
    "        self.memory_counter = 0                                         # for storing memory\n",
    "        self.memory = np.zeros((MEMORY_CAPACITY, N_STATES * 2 + 2))     # initialize memory\n",
    "        self.optimizer = torch.optim.Adam(self.eval_net.parameters(), lr=LR)\n",
    "        self.loss_func = nn.MSELoss()\n",
    "\n",
    "    def choose_action(self, x):\n",
    "        x = torch.unsqueeze(torch.FloatTensor(x), 0)\n",
    "        # input only one sample\n",
    "        if np.random.uniform() < EPSILON:   # greedy\n",
    "            actions_value = self.eval_net.forward(x)\n",
    "            action = torch.max(actions_value, 1)[1].data.numpy()\n",
    "            action = action[0] if ENV_A_SHAPE == 0 else action.reshape(ENV_A_SHAPE)  # return the argmax index\n",
    "        else:   # random\n",
    "            action = np.random.randint(0, N_ACTIONS)\n",
    "            action = action if ENV_A_SHAPE == 0 else action.reshape(ENV_A_SHAPE)\n",
    "        return action\n",
    "\n",
    "    def store_transition(self, s, a, r, s_):\n",
    "        transition = np.hstack((s, [a, r], s_))\n",
    "        # replace the old memory with new memory\n",
    "        index = self.memory_counter % MEMORY_CAPACITY\n",
    "        self.memory[index, :] = transition\n",
    "        self.memory_counter += 1\n",
    "\n",
    "    def learn(self):\n",
    "        # target parameter update\n",
    "        if self.learn_step_counter % TARGET_REPLACE_ITER == 0:\n",
    "            self.target_net.load_state_dict(self.eval_net.state_dict())\n",
    "        self.learn_step_counter += 1\n",
    "\n",
    "        # sample batch transitions\n",
    "        sample_index = np.random.choice(MEMORY_CAPACITY, BATCH_SIZE)\n",
    "        b_memory = self.memory[sample_index, :]\n",
    "        b_s = torch.FloatTensor(b_memory[:, :N_STATES])\n",
    "        b_a = torch.LongTensor(b_memory[:, N_STATES:N_STATES+1].astype(int))\n",
    "        b_r = torch.FloatTensor(b_memory[:, N_STATES+1:N_STATES+2])\n",
    "        b_s_ = torch.FloatTensor(b_memory[:, -N_STATES:])\n",
    "\n",
    "        # q_eval w.r.t the action in experience\n",
    "        q_eval = self.eval_net(b_s).gather(1, b_a)  # shape (batch, 1)\n",
    "        q_next = self.target_net(b_s_).detach()     # detach from graph, don't backpropagate\n",
    "        q_target = b_r + GAMMA * q_next.max(1)[0].view(BATCH_SIZE, 1)   # shape (batch, 1)\n",
    "        loss = self.loss_func(q_eval, q_target)\n",
    "\n",
    "        self.optimizer.zero_grad()\n",
    "        loss.backward()\n",
    "        self.optimizer.step()\n",
    "\n",
    "dqn = DQN()\n",
    "\n",
    "print('\\nCollecting experience...')\n",
    "for i_episode in range(400):\n",
    "    s = env.reset()\n",
    "    ep_r = 0\n",
    "    live_time = 0\n",
    "    while True:\n",
    "        env.render()\n",
    "        a = dqn.choose_action(s)\n",
    "\n",
    "        # take action\n",
    "        s_, r, done, info = env.step(a)\n",
    "        \n",
    "        # modify the reward\n",
    "        x, x_dot, theta, theta_dot = s_\n",
    "        r1 = (env.x_threshold - abs(x)) / env.x_threshold - 0.8\n",
    "        r2 = (env.theta_threshold_radians - abs(theta)) / env.theta_threshold_radians - 0.5\n",
    "        r = r1 + r2\n",
    "\n",
    "        dqn.store_transition(s, a, r, s_)\n",
    "\n",
    "        ep_r += r\n",
    "        if dqn.memory_counter > MEMORY_CAPACITY:\n",
    "            dqn.learn()\n",
    "            if done:\n",
    "                print('Ep: ', i_episode,\n",
    "                      '| Ep_r: ', round(ep_r, 2),\n",
    "                      '| live time: ', live_time)\n",
    "                live_time = 0\n",
    "            else:\n",
    "                live_time += 1\n",
    "            \n",
    "\n",
    "        if done:\n",
    "            break\n",
    "        s = s_"
   ]
  },
  {
   "cell_type": "code",
   "execution_count": null,
   "metadata": {},
   "outputs": [],
   "source": []
  }
 ],
 "metadata": {
  "kernelspec": {
   "display_name": "Python 3.6 venv",
   "language": "python",
   "name": "venv"
  },
  "language_info": {
   "codemirror_mode": {
    "name": "ipython",
    "version": 3
   },
   "file_extension": ".py",
   "mimetype": "text/x-python",
   "name": "python",
   "nbconvert_exporter": "python",
   "pygments_lexer": "ipython3",
   "version": "3.6.8"
  }
 },
 "nbformat": 4,
 "nbformat_minor": 4
}
