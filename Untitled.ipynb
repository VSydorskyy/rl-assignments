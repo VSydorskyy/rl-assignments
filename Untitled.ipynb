{
 "cells": [
  {
   "cell_type": "code",
   "execution_count": 1,
   "metadata": {},
   "outputs": [],
   "source": [
    "%matplotlib inline\n",
    "%load_ext autoreload\n",
    "%autoreload 2"
   ]
  },
  {
   "cell_type": "markdown",
   "metadata": {},
   "source": [
    "# Imports"
   ]
  },
  {
   "cell_type": "code",
   "execution_count": 2,
   "metadata": {},
   "outputs": [],
   "source": [
    "import random\n",
    "import io\n",
    "import base64\n",
    "\n",
    "import gym\n",
    "import numpy as np\n",
    "import pandas as pd\n",
    "import torch\n",
    "\n",
    "from matplotlib import pyplot as plt\n",
    "from gym import wrappers\n",
    "\n",
    "from lib import get_network\n",
    "from lib.agent import DQN\n",
    "from lib.rollout import ReplayBuffer\n",
    "from lib.network import MLP\n",
    "\n",
    "from IPython.display import HTML\n",
    "\n",
    "plt.style.use('seaborn')"
   ]
  },
  {
   "cell_type": "markdown",
   "metadata": {},
   "source": [
    "# Fix seed"
   ]
  },
  {
   "cell_type": "code",
   "execution_count": 3,
   "metadata": {},
   "outputs": [],
   "source": [
    "SEED = 0xCEEEEEEB\n",
    "random.seed(SEED)\n",
    "torch.manual_seed(SEED)\n",
    "np.random.seed(SEED)"
   ]
  },
  {
   "cell_type": "markdown",
   "metadata": {},
   "source": [
    "# Utils"
   ]
  },
  {
   "cell_type": "code",
   "execution_count": 4,
   "metadata": {},
   "outputs": [],
   "source": [
    "def make_env(name, seed=None, monitor=False):\n",
    "    env = gym.make(name)\n",
    "    if monitor:\n",
    "        env = wrappers.Monitor(env, \"./gym-results\", force=True)\n",
    "    if seed:\n",
    "        env.seed(seed)\n",
    "    return env"
   ]
  },
  {
   "cell_type": "code",
   "execution_count": 5,
   "metadata": {},
   "outputs": [],
   "source": [
    "def get_html_video_string(infix):\n",
    "    video = io.open(\n",
    "        f'./gym-results/openaigym.video.{infix}.video000000.mp4',\n",
    "        'r+b').read()\n",
    "    encoded = base64.b64encode(video)\n",
    "    dec_str = encoded.decode('ascii')\n",
    "    src_tag = f'<source src=\"data:video/mp4;base64,{dec_str}\" type=\"video/mp4\" /></video>'\n",
    "    html = f'<video width=\"360\" height=\"auto\" alt=\"test\" controls>{src_tag}</video>'\n",
    "    return html"
   ]
  },
  {
   "cell_type": "markdown",
   "metadata": {},
   "source": [
    "# Analyse Environment"
   ]
  },
  {
   "cell_type": "code",
   "execution_count": 6,
   "metadata": {},
   "outputs": [
    {
     "data": {
      "text/html": [
       "<video width=\"360\" height=\"auto\" alt=\"test\" controls><source src=\"data:video/mp4;base64,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\" type=\"video/mp4\" /></video></video>"
      ],
      "text/plain": [
       "<IPython.core.display.HTML object>"
      ]
     },
     "execution_count": 6,
     "metadata": {},
     "output_type": "execute_result"
    }
   ],
   "source": [
    "env = make_env(\"CartPole-v0\", monitor=True)\n",
    "env.reset()\n",
    "while True:\n",
    "    action = env.action_space.sample()\n",
    "    feedback = env.step(action)\n",
    "    if feedback[2]: break\n",
    "env.close()\n",
    "\n",
    "HTML(data=get_html_video_string(env.file_infix))"
   ]
  },
  {
   "cell_type": "code",
   "execution_count": 7,
   "metadata": {},
   "outputs": [
    {
     "name": "stdout",
     "output_type": "stream",
     "text": [
      "Environment takes: 0\n",
      "Environment gives: (array([-0.04499635,  0.39540054, -0.22736753, -1.3855494 ]), 1.0, True, {})\n"
     ]
    }
   ],
   "source": [
    "print('Environment takes: {}'.format(action))\n",
    "print('Environment gives: {}'.format(feedback))"
   ]
  },
  {
   "cell_type": "markdown",
   "metadata": {},
   "source": [
    "# Train Loop"
   ]
  },
  {
   "cell_type": "code",
   "execution_count": 8,
   "metadata": {},
   "outputs": [],
   "source": [
    "neural_net = MLP(env.observation_space.shape[0], 128, env.action_space.n)"
   ]
  },
  {
   "cell_type": "code",
   "execution_count": 9,
   "metadata": {},
   "outputs": [],
   "source": [
    "buffer_size = 5 * 10**4\n",
    "n_steps = 10**5\n",
    "warmup_steps = 1000\n"
   ]
  },
  {
   "cell_type": "code",
   "execution_count": 10,
   "metadata": {},
   "outputs": [],
   "source": [
    "memory = ReplayBuffer(buffer_size)"
   ]
  },
  {
   "cell_type": "code",
   "execution_count": 11,
   "metadata": {},
   "outputs": [],
   "source": [
    "agent = DQN(\n",
    "    neural_net,\n",
    "    env.action_space,\n",
    "    start_eps=0.2, \n",
    "    final_eps=0.05, \n",
    "    decay_eps=200,\n",
    "    batch_size=64,\n",
    "    learning_rate=5e-4,\n",
    "    discount_factor=.99,\n",
    "    update_target_rate=250\n",
    ")"
   ]
  },
  {
   "cell_type": "code",
   "execution_count": 12,
   "metadata": {},
   "outputs": [
    {
     "ename": "KeyboardInterrupt",
     "evalue": "",
     "output_type": "error",
     "traceback": [
      "\u001b[0;31m---------------------------------------------------------------------------\u001b[0m",
      "\u001b[0;31mKeyboardInterrupt\u001b[0m                         Traceback (most recent call last)",
      "\u001b[0;32m<ipython-input-12-9d8f70b52326>\u001b[0m in \u001b[0;36m<module>\u001b[0;34m\u001b[0m\n\u001b[1;32m     26\u001b[0m \u001b[0;34m\u001b[0m\u001b[0m\n\u001b[1;32m     27\u001b[0m     \u001b[0;32mif\u001b[0m \u001b[0mi\u001b[0m \u001b[0;34m>\u001b[0m \u001b[0mwarmup_steps\u001b[0m\u001b[0;34m:\u001b[0m\u001b[0;34m\u001b[0m\u001b[0;34m\u001b[0m\u001b[0m\n\u001b[0;32m---> 28\u001b[0;31m         \u001b[0mq\u001b[0m \u001b[0;34m=\u001b[0m \u001b[0magent\u001b[0m\u001b[0;34m.\u001b[0m\u001b[0mtrain_step\u001b[0m\u001b[0;34m(\u001b[0m\u001b[0mmemory\u001b[0m\u001b[0;34m)\u001b[0m\u001b[0;34m\u001b[0m\u001b[0;34m\u001b[0m\u001b[0m\n\u001b[0m\u001b[1;32m     29\u001b[0m         \u001b[0mlosses\u001b[0m\u001b[0;34m.\u001b[0m\u001b[0mappend\u001b[0m\u001b[0;34m(\u001b[0m\u001b[0mq\u001b[0m\u001b[0;34m)\u001b[0m\u001b[0;34m\u001b[0m\u001b[0;34m\u001b[0m\u001b[0m\n\u001b[1;32m     30\u001b[0m \u001b[0;34m\u001b[0m\u001b[0m\n",
      "\u001b[0;32m~/anaconda3/src/rl-assignments/lib/agent.py\u001b[0m in \u001b[0;36mtrain_step\u001b[0;34m(self, replay_buffer)\u001b[0m\n\u001b[1;32m     75\u001b[0m \u001b[0;34m\u001b[0m\u001b[0m\n\u001b[1;32m     76\u001b[0m         \u001b[0mself\u001b[0m\u001b[0;34m.\u001b[0m\u001b[0moptimizer\u001b[0m\u001b[0;34m.\u001b[0m\u001b[0mzero_grad\u001b[0m\u001b[0;34m(\u001b[0m\u001b[0;34m)\u001b[0m\u001b[0;34m\u001b[0m\u001b[0;34m\u001b[0m\u001b[0m\n\u001b[0;32m---> 77\u001b[0;31m         \u001b[0mloss\u001b[0m\u001b[0;34m.\u001b[0m\u001b[0mbackward\u001b[0m\u001b[0;34m(\u001b[0m\u001b[0;34m)\u001b[0m\u001b[0;34m\u001b[0m\u001b[0;34m\u001b[0m\u001b[0m\n\u001b[0m\u001b[1;32m     78\u001b[0m         \u001b[0mself\u001b[0m\u001b[0;34m.\u001b[0m\u001b[0moptimizer\u001b[0m\u001b[0;34m.\u001b[0m\u001b[0mstep\u001b[0m\u001b[0;34m(\u001b[0m\u001b[0;34m)\u001b[0m\u001b[0;34m\u001b[0m\u001b[0;34m\u001b[0m\u001b[0m\n\u001b[1;32m     79\u001b[0m \u001b[0;34m\u001b[0m\u001b[0m\n",
      "\u001b[0;32m~/anaconda3/envs/venv/lib/python3.6/site-packages/torch/tensor.py\u001b[0m in \u001b[0;36mbackward\u001b[0;34m(self, gradient, retain_graph, create_graph)\u001b[0m\n\u001b[1;32m    105\u001b[0m                 \u001b[0mproducts\u001b[0m\u001b[0;34m.\u001b[0m \u001b[0mDefaults\u001b[0m \u001b[0mto\u001b[0m\u001b[0;31m \u001b[0m\u001b[0;31m`\u001b[0m\u001b[0;31m`\u001b[0m\u001b[0;32mFalse\u001b[0m\u001b[0;31m`\u001b[0m\u001b[0;31m`\u001b[0m\u001b[0;34m.\u001b[0m\u001b[0;34m\u001b[0m\u001b[0;34m\u001b[0m\u001b[0m\n\u001b[1;32m    106\u001b[0m         \"\"\"\n\u001b[0;32m--> 107\u001b[0;31m         \u001b[0mtorch\u001b[0m\u001b[0;34m.\u001b[0m\u001b[0mautograd\u001b[0m\u001b[0;34m.\u001b[0m\u001b[0mbackward\u001b[0m\u001b[0;34m(\u001b[0m\u001b[0mself\u001b[0m\u001b[0;34m,\u001b[0m \u001b[0mgradient\u001b[0m\u001b[0;34m,\u001b[0m \u001b[0mretain_graph\u001b[0m\u001b[0;34m,\u001b[0m \u001b[0mcreate_graph\u001b[0m\u001b[0;34m)\u001b[0m\u001b[0;34m\u001b[0m\u001b[0;34m\u001b[0m\u001b[0m\n\u001b[0m\u001b[1;32m    108\u001b[0m \u001b[0;34m\u001b[0m\u001b[0m\n\u001b[1;32m    109\u001b[0m     \u001b[0;32mdef\u001b[0m \u001b[0mregister_hook\u001b[0m\u001b[0;34m(\u001b[0m\u001b[0mself\u001b[0m\u001b[0;34m,\u001b[0m \u001b[0mhook\u001b[0m\u001b[0;34m)\u001b[0m\u001b[0;34m:\u001b[0m\u001b[0;34m\u001b[0m\u001b[0;34m\u001b[0m\u001b[0m\n",
      "\u001b[0;32m~/anaconda3/envs/venv/lib/python3.6/site-packages/torch/autograd/__init__.py\u001b[0m in \u001b[0;36mbackward\u001b[0;34m(tensors, grad_tensors, retain_graph, create_graph, grad_variables)\u001b[0m\n\u001b[1;32m     91\u001b[0m     Variable._execution_engine.run_backward(\n\u001b[1;32m     92\u001b[0m         \u001b[0mtensors\u001b[0m\u001b[0;34m,\u001b[0m \u001b[0mgrad_tensors\u001b[0m\u001b[0;34m,\u001b[0m \u001b[0mretain_graph\u001b[0m\u001b[0;34m,\u001b[0m \u001b[0mcreate_graph\u001b[0m\u001b[0;34m,\u001b[0m\u001b[0;34m\u001b[0m\u001b[0;34m\u001b[0m\u001b[0m\n\u001b[0;32m---> 93\u001b[0;31m         allow_unreachable=True)  # allow_unreachable flag\n\u001b[0m\u001b[1;32m     94\u001b[0m \u001b[0;34m\u001b[0m\u001b[0m\n\u001b[1;32m     95\u001b[0m \u001b[0;34m\u001b[0m\u001b[0m\n",
      "\u001b[0;31mKeyboardInterrupt\u001b[0m: "
     ]
    }
   ],
   "source": [
    "live_times = []\n",
    "losses = []\n",
    "\n",
    "live_time = 0\n",
    "    \n",
    "obs_cur = env.reset()\n",
    "for i in range(n_steps + 1):\n",
    "    \n",
    "    if i > warmup_steps:\n",
    "        act = agent.prediction_step(torch.FloatTensor(obs_cur).unsqueeze(0))\n",
    "    else:\n",
    "        act = env.action_space.sample()\n",
    "\n",
    "    obs_prev = obs_cur\n",
    "    obs_cur, rew, done, info = env.step(act)\n",
    "\n",
    "    memory.push(obs_prev, act, obs_cur, rew, done)\n",
    "\n",
    "    if done:\n",
    "        obs_cur = env.reset()\n",
    "        #print('Live Time: {}'.format(live_time))\n",
    "        live_times.append(live_time)\n",
    "        live_time = 0\n",
    "    else:\n",
    "        live_time += 1\n",
    "\n",
    "    if i > warmup_steps:\n",
    "        q = agent.train_step(memory)\n",
    "        losses.append(q)\n",
    "        \n"
   ]
  },
  {
   "cell_type": "code",
   "execution_count": 13,
   "metadata": {},
   "outputs": [
    {
     "data": {
      "image/png": "[encoded data removed]",
      "text/plain": [
       "<Figure size 576x396 with 1 Axes>"
      ]
     },
     "metadata": {},
     "output_type": "display_data"
    }
   ],
   "source": [
    "plt.plot(losses);"
   ]
  },
  {
   "cell_type": "code",
   "execution_count": 14,
   "metadata": {},
   "outputs": [
    {
     "data": {
      "text/plain": [
       "[<matplotlib.lines.Line2D at 0x7fadeebbce10>]"
      ]
     },
     "execution_count": 14,
     "metadata": {},
     "output_type": "execute_result"
    },
    {
     "data": {
      "image/png": "[encoded data removed]",
      "text/plain": [
       "<Figure size 576x396 with 1 Axes>"
      ]
     },
     "metadata": {},
     "output_type": "display_data"
    }
   ],
   "source": [
    "plt.plot(live_times)"
   ]
  },
  {
   "cell_type": "code",
   "execution_count": 15,
   "metadata": {},
   "outputs": [
    {
     "data": {
      "text/plain": [
       "199"
      ]
     },
     "execution_count": 15,
     "metadata": {},
     "output_type": "execute_result"
    }
   ],
   "source": [
    "max(live_times)"
   ]
  },
  {
   "cell_type": "code",
   "execution_count": null,
   "metadata": {},
   "outputs": [],
   "source": []
  },
  {
   "cell_type": "code",
   "execution_count": null,
   "metadata": {},
   "outputs": [],
   "source": []
  },
  {
   "cell_type": "code",
   "execution_count": null,
   "metadata": {},
   "outputs": [],
   "source": [
    "\"\"\"\n",
    "View more, visit my tutorial page: https://morvanzhou.github.io/tutorials/\n",
    "My Youtube Channel: https://www.youtube.com/user/MorvanZhou\n",
    "More about Reinforcement learning: https://morvanzhou.github.io/tutorials/machine-learning/reinforcement-learning/\n",
    "Dependencies:\n",
    "torch: 0.4\n",
    "gym: 0.8.1\n",
    "numpy\n",
    "\"\"\"\n",
    "import torch\n",
    "import torch.nn as nn\n",
    "import torch.nn.functional as F\n",
    "import numpy as np\n",
    "import gym\n",
    "\n",
    "# Hyper Parameters\n",
    "BATCH_SIZE = 32\n",
    "LR = 0.01                   # learning rate\n",
    "EPSILON = 0.9               # greedy policy\n",
    "GAMMA = 0.9                 # reward discount\n",
    "TARGET_REPLACE_ITER = 100   # target update frequency\n",
    "MEMORY_CAPACITY = 2000\n",
    "env = gym.make('CartPole-v0')\n",
    "env = env.unwrapped\n",
    "N_ACTIONS = env.action_space.n\n",
    "N_STATES = env.observation_space.shape[0]\n",
    "ENV_A_SHAPE = 0 if isinstance(env.action_space.sample(), int) else env.action_space.sample().shape     # to confirm the shape\n",
    "\n",
    "\n",
    "class Net(nn.Module):\n",
    "    def __init__(self, ):\n",
    "        super(Net, self).__init__()\n",
    "        self.fc1 = nn.Linear(N_STATES, 50)\n",
    "        self.fc1.weight.data.normal_(0, 0.1)   # initialization\n",
    "        self.out = nn.Linear(50, N_ACTIONS)\n",
    "        self.out.weight.data.normal_(0, 0.1)   # initialization\n",
    "\n",
    "    def forward(self, x):\n",
    "        x = self.fc1(x)\n",
    "        x = F.relu(x)\n",
    "        actions_value = self.out(x)\n",
    "        return actions_value\n",
    "\n",
    "\n",
    "class DQN(object):\n",
    "    def __init__(self):\n",
    "        self.eval_net, self.target_net = Net(), Net()\n",
    "\n",
    "        self.learn_step_counter = 0                                     # for target updating\n",
    "        self.memory_counter = 0                                         # for storing memory\n",
    "        self.memory = np.zeros((MEMORY_CAPACITY, N_STATES * 2 + 2))     # initialize memory\n",
    "        self.optimizer = torch.optim.Adam(self.eval_net.parameters(), lr=LR)\n",
    "        self.loss_func = nn.MSELoss()\n",
    "\n",
    "    def choose_action(self, x):\n",
    "        x = torch.unsqueeze(torch.FloatTensor(x), 0)\n",
    "        # input only one sample\n",
    "        if np.random.uniform() < EPSILON:   # greedy\n",
    "            actions_value = self.eval_net.forward(x)\n",
    "            action = torch.max(actions_value, 1)[1].data.numpy()\n",
    "            action = action[0] if ENV_A_SHAPE == 0 else action.reshape(ENV_A_SHAPE)  # return the argmax index\n",
    "        else:   # random\n",
    "            action = np.random.randint(0, N_ACTIONS)\n",
    "            action = action if ENV_A_SHAPE == 0 else action.reshape(ENV_A_SHAPE)\n",
    "        return action\n",
    "\n",
    "    def store_transition(self, s, a, r, s_):\n",
    "        transition = np.hstack((s, [a, r], s_))\n",
    "        # replace the old memory with new memory\n",
    "        index = self.memory_counter % MEMORY_CAPACITY\n",
    "        self.memory[index, :] = transition\n",
    "        self.memory_counter += 1\n",
    "\n",
    "    def learn(self):\n",
    "        # target parameter update\n",
    "        if self.learn_step_counter % TARGET_REPLACE_ITER == 0:\n",
    "            self.target_net.load_state_dict(self.eval_net.state_dict())\n",
    "        self.learn_step_counter += 1\n",
    "\n",
    "        # sample batch transitions\n",
    "        sample_index = np.random.choice(MEMORY_CAPACITY, BATCH_SIZE)\n",
    "        b_memory = self.memory[sample_index, :]\n",
    "        b_s = torch.FloatTensor(b_memory[:, :N_STATES])\n",
    "        b_a = torch.LongTensor(b_memory[:, N_STATES:N_STATES+1].astype(int))\n",
    "        b_r = torch.FloatTensor(b_memory[:, N_STATES+1:N_STATES+2])\n",
    "        b_s_ = torch.FloatTensor(b_memory[:, -N_STATES:])\n",
    "\n",
    "        # q_eval w.r.t the action in experience\n",
    "        q_eval = self.eval_net(b_s).gather(1, b_a)  # shape (batch, 1)\n",
    "        q_next = self.target_net(b_s_).detach()     # detach from graph, don't backpropagate\n",
    "        q_target = b_r + GAMMA * q_next.max(1)[0].view(BATCH_SIZE, 1)   # shape (batch, 1)\n",
    "        loss = self.loss_func(q_eval, q_target)\n",
    "\n",
    "        self.optimizer.zero_grad()\n",
    "        loss.backward()\n",
    "        self.optimizer.step()\n",
    "\n",
    "dqn = DQN()\n",
    "\n",
    "print('\\nCollecting experience...')\n",
    "for i_episode in range(400):\n",
    "    s = env.reset()\n",
    "    ep_r = 0\n",
    "    live_time = 0\n",
    "    while True:\n",
    "        env.render()\n",
    "        a = dqn.choose_action(s)\n",
    "\n",
    "        # take action\n",
    "        s_, r, done, info = env.step(a)\n",
    "\n",
    "        # modify the reward\n",
    "        x, x_dot, theta, theta_dot = s_\n",
    "        r1 = (env.x_threshold - abs(x)) / env.x_threshold - 0.8\n",
    "        r2 = (env.theta_threshold_radians - abs(theta)) / env.theta_threshold_radians - 0.5\n",
    "        r = r1 + r2\n",
    "\n",
    "        dqn.store_transition(s, a, r, s_)\n",
    "\n",
    "        ep_r += r\n",
    "        if dqn.memory_counter > MEMORY_CAPACITY:\n",
    "            dqn.learn()\n",
    "            if done:\n",
    "                print('Ep: ', i_episode,\n",
    "                      '| Ep_r: ', round(ep_r, 2),\n",
    "                      '| live time: ', live_time)\n",
    "                live_time = 0\n",
    "            else:\n",
    "                live_time += 1\n",
    "            \n",
    "\n",
    "        if done:\n",
    "            break\n",
    "        s = s_"
   ]
  },
  {
   "cell_type": "code",
   "execution_count": null,
   "metadata": {},
   "outputs": [],
   "source": []
  }
 ],
 "metadata": {
  "kernelspec": {
   "display_name": "Python 3.6 venv",
   "language": "python",
   "name": "venv"
  },
  "language_info": {
   "codemirror_mode": {
    "name": "ipython",
    "version": 3
   },
   "file_extension": ".py",
   "mimetype": "text/x-python",
   "name": "python",
   "nbconvert_exporter": "python",
   "pygments_lexer": "ipython3",
   "version": "3.6.8"
  }
 },
 "nbformat": 4,
 "nbformat_minor": 4
}
